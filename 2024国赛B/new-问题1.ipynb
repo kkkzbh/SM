{
 "cells": [
  {
   "cell_type": "code",
   "execution_count": null,
   "id": "initial_id",
   "metadata": {
    "collapsed": true
   },
   "outputs": [],
   "source": [
    "\n",
    "import numpy as np\n",
    "import time\n",
    "import matplotlib.pyplot as plt\n",
    "\n",
    "np.random.seed(int(time.time()))\n",
    "\n",
    "# 假设原件个数为 使用0表示不合格 1表示合格\n",
    "total_cnt = 1000; # 总数\n",
    "i_cnt = 100; # 次品数\n",
    "a = np.array([0] * i_cnt + [1] * (total_cnt - i_cnt))\n",
    "np.random.shuffle(a) # 打乱\n",
    "pt = 0.9 # 假定p0 = 0.1的概率 也就是 P(A)\n",
    "p0 = 0.1 # 二项分布概率\n",
    "z1 = 1.65 # (1)的信度要求对应的正太值\n",
    "z2 = 1.29\n",
    "\n",
    "min_ex_cnt = 10 # 最少抽取次数\n",
    "max_ex_cnt = total_cnt # 最多抽取个数 \n",
    "test_cnt = 300 # 单次测试次数\n",
    "\n",
    "def test1(cnt: int) -> bool:\n",
    "    c0,c1 = 0,0\n",
    "    for k in range(cnt):\n",
    "        sec = np.random.randint(0,a.size)\n",
    "        if a[sec] == 0:\n",
    "            c0 += 1\n",
    "        else:\n",
    "            c1 += 1\n",
    "    p = c0 / (c0 + c1)\n",
    "    z = (p - p0) / np.sqrt(p0 * (1 - p0) / cnt)\n",
    "    if z >= z1:\n",
    "        return False\n",
    "    return True\n",
    "\n",
    "def ex() -> bool:\n",
    "    return test1(50)\n",
    "\n",
    "floor,ceil = 0.92,0.98\n",
    "\n",
    "if __name__ == '__main__':\n",
    "    cnt = 0\n",
    "    \n",
    "\n"
   ]
  }
 ],
 "metadata": {
  "kernelspec": {
   "display_name": "Python 3",
   "language": "python",
   "name": "python3"
  },
  "language_info": {
   "codemirror_mode": {
    "name": "ipython",
    "version": 2
   },
   "file_extension": ".py",
   "mimetype": "text/x-python",
   "name": "python",
   "nbconvert_exporter": "python",
   "pygments_lexer": "ipython2",
   "version": "2.7.6"
  }
 },
 "nbformat": 4,
 "nbformat_minor": 5
}
