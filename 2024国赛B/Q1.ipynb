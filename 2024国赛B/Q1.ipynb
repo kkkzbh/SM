{
 "cells": [
  {
   "cell_type": "code",
   "execution_count": 1,
   "id": "2ccd970d",
   "metadata": {},
   "outputs": [
    {
     "data": {
      "text/plain": [
       "(98, 60)"
      ]
     },
     "execution_count": 1,
     "metadata": {},
     "output_type": "execute_result"
    }
   ],
   "source": [
    "import scipy.stats as stats\n",
    "import math\n",
    "\n",
    "# 参数定义\n",
    "p0 = 0.1  # 标称次品率\n",
    "alpha1 = 0.05  # 第一类错误率，对应 95% 置信度\n",
    "alpha2 = 0.10  # 第二类错误率，对应 90% 置信度\n",
    "Z1 = stats.norm.ppf(1 - alpha1)  # 对应 alpha1 的 Z 值\n",
    "Z2 = stats.norm.ppf(1 - alpha2)  # 对应 alpha2 的 Z 值\n",
    "\n",
    "# 假设允许误差率 E\n",
    "E = 0.05\n",
    "\n",
    "# 样本量计算\n",
    "n1 = math.ceil((Z1**2 * p0 * (1 - p0)) / E**2)\n",
    "n2 = math.ceil((Z2**2 * p0 * (1 - p0)) / E**2)\n",
    "\n",
    "# 输出样本量结果\n",
    "n1, n2\n",
    "\n",
    "\n",
    "#在 95% 的置信度下，如果要认定零配件次品率超过标称值 10%，则需要抽样检测 98 个零配件。\n",
    "#在 90% 的置信度下，如果要认定零配件次品率不超过标称值 10%，则需要抽样检测 60 个零配件"
   ]
  }
 ],
 "metadata": {
  "kernelspec": {
   "display_name": "Python 3",
   "language": "python",
   "name": "python3"
  },
  "language_info": {
   "codemirror_mode": {
    "name": "ipython",
    "version": 3
   },
   "file_extension": ".py",
   "mimetype": "text/x-python",
   "name": "python",
   "nbconvert_exporter": "python",
   "pygments_lexer": "ipython3",
   "version": "3.8.8"
  }
 },
 "nbformat": 4,
 "nbformat_minor": 5
}
